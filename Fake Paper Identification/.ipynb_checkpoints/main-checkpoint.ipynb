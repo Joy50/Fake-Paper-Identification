{
 "cells": [
  {
   "cell_type": "code",
   "execution_count": 1,
   "id": "82a7f248",
   "metadata": {},
   "outputs": [],
   "source": [
    "from pathlib import Path\n",
    "from tqdm.auto import tqdm\n",
    "import numpy as np\n",
    "import pandas as pd\n",
    "\n",
    "from sklearn.model_selection import cross_val_score, StratifiedKFold\n",
    "from sklearn.feature_extraction.text import TfidfVectorizer\n",
    "from sklearn.linear_model import LogisticRegression\n",
    "from sklearn.pipeline import Pipeline\n",
    "from sklearn.metrics import f1_score"
   ]
  },
  {
   "cell_type": "code",
   "execution_count": 2,
   "id": "b3a0f486",
   "metadata": {},
   "outputs": [],
   "source": [
    "PATH_TO_DATA = Path('../input/detecting-generated-scientific-papers/')\n",
    "INDEX_COL_NAME = 'id'\n",
    "INPUT_COL_NAME = 'text'\n",
    "TARGET_COL_NAME = 'fake'"
   ]
  },
  {
   "cell_type": "code",
   "execution_count": 3,
   "id": "14113b98",
   "metadata": {},
   "outputs": [],
   "source": [
    "train_df = pd.read_csv(\"data/train/fake_papers_train_part_public.csv\", index_col=INDEX_COL_NAME)\n",
    "test_df = pd.read_csv(\"data/test/fake_papers_test_public.csv\", index_col=INDEX_COL_NAME)\n",
    "sample_sumbission_df = pd.read_csv(\"data/sample/sample_submission.csv\", index_col=INDEX_COL_NAME)"
   ]
  },
  {
   "cell_type": "code",
   "execution_count": 4,
   "id": "0be9c62d",
   "metadata": {},
   "outputs": [
    {
     "name": "stdout",
     "output_type": "stream",
     "text": [
      "                                                    text  fake\n",
      "id                                                            \n",
      "1      Modern two-dimensional imaging is of such qual...     0\n",
      "2      Background: The optimal sequence of systemic p...     1\n",
      "5      This chapter opens with a discussion of the ef...     1\n",
      "10     The time scale of the ultra-short-term can str...     1\n",
      "23     Electronic nose or machine olfaction are syste...     1\n",
      "...                                                  ...   ...\n",
      "26727  In this paper, Shmoop uses statistical methods...     1\n",
      "26728  In this paper, the authors examine the effects...     1\n",
      "26734  The possibility of using PCI Mezzanine Cards (...     0\n",
      "26743  Soil biodiversity is a keystone of the natural...     1\n",
      "26747  In this chapter, Dr. Barlow and his colleagues...     1\n",
      "\n",
      "[5350 rows x 2 columns]\n"
     ]
    }
   ],
   "source": [
    "print(train_df)"
   ]
  },
  {
   "cell_type": "code",
   "execution_count": 5,
   "id": "ffdac212",
   "metadata": {},
   "outputs": [
    {
     "data": {
      "text/html": [
       "<div>\n",
       "<style scoped>\n",
       "    .dataframe tbody tr th:only-of-type {\n",
       "        vertical-align: middle;\n",
       "    }\n",
       "\n",
       "    .dataframe tbody tr th {\n",
       "        vertical-align: top;\n",
       "    }\n",
       "\n",
       "    .dataframe thead th {\n",
       "        text-align: right;\n",
       "    }\n",
       "</style>\n",
       "<table border=\"1\" class=\"dataframe\">\n",
       "  <thead>\n",
       "    <tr style=\"text-align: right;\">\n",
       "      <th></th>\n",
       "      <th>text</th>\n",
       "      <th>fake</th>\n",
       "    </tr>\n",
       "    <tr>\n",
       "      <th>id</th>\n",
       "      <th></th>\n",
       "      <th></th>\n",
       "    </tr>\n",
       "  </thead>\n",
       "  <tbody>\n",
       "    <tr>\n",
       "      <th>1</th>\n",
       "      <td>Modern two-dimensional imaging is of such qual...</td>\n",
       "      <td>0</td>\n",
       "    </tr>\n",
       "    <tr>\n",
       "      <th>2</th>\n",
       "      <td>Background: The optimal sequence of systemic p...</td>\n",
       "      <td>1</td>\n",
       "    </tr>\n",
       "  </tbody>\n",
       "</table>\n",
       "</div>"
      ],
      "text/plain": [
       "                                                 text  fake\n",
       "id                                                         \n",
       "1   Modern two-dimensional imaging is of such qual...     0\n",
       "2   Background: The optimal sequence of systemic p...     1"
      ]
     },
     "execution_count": 5,
     "metadata": {},
     "output_type": "execute_result"
    }
   ],
   "source": [
    "train_df.head(2)"
   ]
  },
  {
   "cell_type": "code",
   "execution_count": 6,
   "id": "58bd9bad",
   "metadata": {},
   "outputs": [
    {
     "data": {
      "text/plain": [
       "1    3664\n",
       "0    1686\n",
       "Name: fake, dtype: int64"
      ]
     },
     "execution_count": 6,
     "metadata": {},
     "output_type": "execute_result"
    }
   ],
   "source": [
    "train_df[TARGET_COL_NAME].value_counts()"
   ]
  },
  {
   "cell_type": "code",
   "execution_count": 7,
   "id": "551b10d4",
   "metadata": {},
   "outputs": [
    {
     "data": {
      "text/plain": [
       "count    5350.000000\n",
       "mean      139.928037\n",
       "std        70.357633\n",
       "min        50.000000\n",
       "25%        99.000000\n",
       "50%       116.000000\n",
       "75%       168.000000\n",
       "max      1649.000000\n",
       "Name: text, dtype: float64"
      ]
     },
     "execution_count": 7,
     "metadata": {},
     "output_type": "execute_result"
    }
   ],
   "source": [
    "# input text length (in words) distribution \n",
    "train_df[INPUT_COL_NAME].apply(lambda s: len(s.split())).describe()"
   ]
  },
  {
   "cell_type": "code",
   "execution_count": 8,
   "id": "7dc5a9b4",
   "metadata": {},
   "outputs": [],
   "source": [
    "tfidf_transformer = TfidfVectorizer(\n",
    "    ngram_range=(1, 2),\n",
    "    analyzer='word',\n",
    "    lowercase=True,\n",
    "    max_features=50000,\n",
    "    stop_words='english'\n",
    ")\n",
    "\n",
    "logreg = LogisticRegression(\n",
    "    C=1,\n",
    "    random_state=17,\n",
    "    solver='lbfgs',\n",
    "    n_jobs=4,\n",
    "    max_iter=500\n",
    ")\n",
    "\n",
    "model = Pipeline([\n",
    "    ('tfidf', tfidf_transformer), \n",
    "    ('logit', logreg)\n",
    "])"
   ]
  },
  {
   "cell_type": "code",
   "execution_count": 9,
   "id": "dd7acc7a",
   "metadata": {},
   "outputs": [],
   "source": [
    "skf = StratifiedKFold(n_splits=5, shuffle=True, random_state=17)"
   ]
  },
  {
   "cell_type": "code",
   "execution_count": 10,
   "id": "c2c95dee",
   "metadata": {},
   "outputs": [
    {
     "data": {
      "application/vnd.jupyter.widget-view+json": {
       "model_id": "72475c46a4354debbc8e2d51bc9fd52c",
       "version_major": 2,
       "version_minor": 0
      },
      "text/plain": [
       "0it [00:00, ?it/s]"
      ]
     },
     "metadata": {},
     "output_type": "display_data"
    },
    {
     "name": "stdout",
     "output_type": "stream",
     "text": [
      "F1-score for fold 0 is 0.877.\n",
      "F1-score for fold 1 is 0.878.\n",
      "F1-score for fold 2 is 0.874.\n",
      "F1-score for fold 3 is 0.872.\n",
      "F1-score for fold 4 is 0.869.\n",
      "Average cross-validation F1-score is 0.874 +/- 0.00322.\n"
     ]
    }
   ],
   "source": [
    "cv_f1_scores = []\n",
    "test_pred_scores = np.zeros([len(test_df), 2])\n",
    "skf_split_generator = skf.split(X=train_df[INPUT_COL_NAME], y=train_df[TARGET_COL_NAME])\n",
    "\n",
    "for fold_id, (train_idx, val_idx) in tqdm(enumerate(skf_split_generator)):\n",
    "    curr_train_df = train_df.iloc[train_idx]\n",
    "    curr_val_df = train_df.iloc[val_idx]\n",
    "    \n",
    "    model.fit(X=curr_train_df[INPUT_COL_NAME], y=curr_train_df[TARGET_COL_NAME])\n",
    "    \n",
    "    # making predictions for the current validation set\n",
    "    curr_preds = model.predict(X=curr_val_df[INPUT_COL_NAME])\n",
    "    curr_f1 = f1_score(y_true=curr_val_df[TARGET_COL_NAME], y_pred=curr_preds)\n",
    "    cv_f1_scores.append(curr_f1)\n",
    "    print(f\"F1-score for fold {fold_id} is {curr_f1:.3}.\")\n",
    "    \n",
    "    # making predictions for the test set\n",
    "    curr_test_pred_scores = model.predict_proba(X=test_df[INPUT_COL_NAME])\n",
    "    test_pred_scores += curr_test_pred_scores\n",
    "\n",
    "print(f'Average cross-validation F1-score is {np.mean(cv_f1_scores):.3} +/- {np.std(cv_f1_scores):.3}.')\n",
    "test_pred_scores /= skf.n_splits"
   ]
  },
  {
   "cell_type": "code",
   "execution_count": 11,
   "id": "6f8237cc",
   "metadata": {},
   "outputs": [],
   "source": [
    "THRESHOLD = 0.5 # this can be tuned via cross-validation\n",
    "test_preds = (test_pred_scores[:, 1] >= THRESHOLD).astype('uint8')"
   ]
  },
  {
   "cell_type": "code",
   "execution_count": 12,
   "id": "8b06f2b9",
   "metadata": {},
   "outputs": [],
   "source": [
    "subm_df = sample_sumbission_df.copy()\n",
    "subm_df[TARGET_COL_NAME] = test_preds\n",
    "subm_df.to_csv('submission.csv')"
   ]
  },
  {
   "cell_type": "code",
   "execution_count": null,
   "id": "c83fa8fe",
   "metadata": {},
   "outputs": [],
   "source": []
  }
 ],
 "metadata": {
  "kernelspec": {
   "display_name": "Python 3 (ipykernel)",
   "language": "python",
   "name": "python3"
  },
  "language_info": {
   "codemirror_mode": {
    "name": "ipython",
    "version": 3
   },
   "file_extension": ".py",
   "mimetype": "text/x-python",
   "name": "python",
   "nbconvert_exporter": "python",
   "pygments_lexer": "ipython3",
   "version": "3.9.12"
  }
 },
 "nbformat": 4,
 "nbformat_minor": 5
}
